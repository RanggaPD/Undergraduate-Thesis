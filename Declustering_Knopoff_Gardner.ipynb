{
  "nbformat": 4,
  "nbformat_minor": 0,
  "metadata": {
    "colab": {
      "provenance": [],
      "authorship_tag": "ABX9TyMOd6GXPcq+Xg/XSXTw2Om8",
      "include_colab_link": true
    },
    "kernelspec": {
      "name": "python3",
      "display_name": "Python 3"
    },
    "language_info": {
      "name": "python"
    }
  },
  "cells": [
    {
      "cell_type": "markdown",
      "metadata": {
        "id": "view-in-github",
        "colab_type": "text"
      },
      "source": [
        "<a href=\"https://colab.research.google.com/github/RanggaPD/Undergraduate-Thesis/blob/main/Declustering_Knopoff_Gardner.ipynb\" target=\"_parent\"><img src=\"https://colab.research.google.com/assets/colab-badge.svg\" alt=\"Open In Colab\"/></a>"
      ]
    },
    {
      "cell_type": "code",
      "execution_count": null,
      "metadata": {
        "id": "FmrCs2yW8XXX"
      },
      "outputs": [],
      "source": [
        "import numpy as np\n",
        "import pandas as pd"
      ]
    },
    {
      "cell_type": "code",
      "source": [
        "# Fungsi untuk menghitung jarak waktu antara dua gempa\n",
        "def calculate_time_difference(time1, time2):\n",
        "    return abs((time2 - time1).days)"
      ],
      "metadata": {
        "id": "EjzY1M5Y8Zis"
      },
      "execution_count": null,
      "outputs": []
    },
    {
      "cell_type": "code",
      "source": [
        "# Fungsi untuk mendapatkan jendela waktu dan spasial berdasarkan magnitudo\n",
        "def get_windows(magnitude):\n",
        "    # Menghitung jendela spasial\n",
        "    spatial_window = 10**(0.1238 * magnitude + 0.983)\n",
        "    # Menghitung jendela waktu\n",
        "    if magnitude >= 6.5:\n",
        "        time_window = 10**(0.032 * magnitude + 2.7389)\n",
        "    else:\n",
        "        time_window = 10**(0.5409 * magnitude - 0.547)\n",
        "    return spatial_window, time_window"
      ],
      "metadata": {
        "id": "Jy6MRbZ58kJa"
      },
      "execution_count": null,
      "outputs": []
    },
    {
      "cell_type": "code",
      "source": [
        "# Fungsi untuk melakukan declustering\n",
        "def decluster_earthquake_data(df):\n",
        "    main_shocks = []\n",
        "    after_shocks = []\n",
        "\n",
        "    for i, quake in df.iterrows():\n",
        "        if i == 0:\n",
        "            main_shocks.append(quake)\n",
        "        else:\n",
        "            is_aftershock = False\n",
        "            for main_quake in main_shocks:\n",
        "                spatial_window, time_window = get_windows(main_quake['MAG'])\n",
        "                time_diff = calculate_time_difference(main_quake['DATE'], quake['DATE'])\n",
        "                spatial_dist = calculate_spatial_distance(main_quake['LAT'], main_quake['LON'], quake['LAT'], quake['LON'])\n",
        "\n",
        "                if time_diff <= time_window and spatial_dist <= spatial_window:\n",
        "                    after_shocks.append(quake)\n",
        "                    is_aftershock = True\n",
        "                    break\n",
        "\n",
        "            if not is_aftershock:\n",
        "                main_shocks.append(quake)\n",
        "\n",
        "    return pd.DataFrame(main_shocks), pd.DataFrame(after_shocks)"
      ],
      "metadata": {
        "id": "3cZgqC-M8naI"
      },
      "execution_count": null,
      "outputs": []
    },
    {
      "cell_type": "code",
      "source": [
        "# Membaca data gempa dari file\n",
        "data = pd.read_excel('/content/Data_Setelah_Declustering_Not_Fix.xlsx', parse_dates=['DATE'])"
      ],
      "metadata": {
        "id": "e68Za0q48vUr"
      },
      "execution_count": null,
      "outputs": []
    },
    {
      "cell_type": "code",
      "source": [
        "# Melakukan declustering\n",
        "main_shocks, after_shocks = decluster_earthquake_data(data)"
      ],
      "metadata": {
        "id": "n0cLFxGm9Dfv"
      },
      "execution_count": null,
      "outputs": []
    },
    {
      "cell_type": "code",
      "source": [
        "# Menyimpan hasil ke file CSV\n",
        "#main_shocks.to_csv('main_shocks_Fix_1.csv', index=False)\n",
        "#after_shocks.to_csv('after_shocks_Fix_1.csv', index=False)\n",
        "\n",
        "#print(\"Declustering selesai. Data gempa utama dan gempa susulan telah disimpan ke file CSV.\")"
      ],
      "metadata": {
        "colab": {
          "base_uri": "https://localhost:8080/"
        },
        "id": "vSvN8w7G9Z3z",
        "outputId": "3dcf9ac7-7fbf-43ce-e03b-b7785b292d23"
      },
      "execution_count": null,
      "outputs": [
        {
          "output_type": "stream",
          "name": "stdout",
          "text": [
            "Declustering selesai. Data gempa utama dan gempa susulan telah disimpan ke file CSV.\n"
          ]
        }
      ]
    },
    {
      "cell_type": "code",
      "source": [
        "main_shocks_df = pd.DataFrame(main_shocks)\n",
        "after_shocks_df = pd.DataFrame(after_shocks)\n",
        "\n",
        "# Menambahkan kolom jenis gempa\n",
        "main_shocks_df['type'] = 'mainshock'\n",
        "after_shocks_df['type'] = 'aftershock'"
      ],
      "metadata": {
        "id": "mGQxs_o09y4e"
      },
      "execution_count": null,
      "outputs": []
    },
    {
      "cell_type": "code",
      "source": [
        "# Menggabungkan kedua DataFrame\n",
        "combined_df = pd.concat([main_shocks_df, after_shocks_df]).sort_values(by='DATE').reset_index(drop=True)\n",
        "\n",
        "# Menyimpan hasil ke file CSV\n",
        "combined_df.to_csv('combined_shocks_1.csv', index=False)"
      ],
      "metadata": {
        "id": "4ZAL0fXM90E3"
      },
      "execution_count": null,
      "outputs": []
    }
  ]
}